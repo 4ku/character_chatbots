{
 "cells": [
  {
   "cell_type": "markdown",
   "metadata": {},
   "source": [
    "### Train model"
   ]
  },
  {
   "cell_type": "code",
   "execution_count": null,
   "metadata": {},
   "outputs": [],
   "source": [
    "import os\n",
    "import sys\n",
    "sys.path.append(\"../..\")\n",
    "from dataset.sponge_bob.personality import sponge_bob_personality \n",
    "from dataset.yoda.personality import yoda_personality \n",
    "\n",
    "from conv_ai import ConvAIModel, ConvAIArgs\n",
    "\n",
    "model_args = ConvAIArgs()\n",
    "model_args.max_history = 1\n",
    "model_args.max_length = 30\n",
    "model_args.num_candidates = 1\n",
    "model_args.reprocess_input_data = True\n",
    "model_args.overwrite_output_dir = True\n",
    "model_args.save_steps = -1\n",
    "model_args.evaluate_during_training = True\n",
    "\n",
    "CHARACTER = 'sponge_bob' # or 'yoda'\n",
    "MODELS_FOLDER = 'models'\n",
    "DATASET_FOLDER = f'../../dataset/{CHARACTER}/'\n",
    "\n",
    "train_path = os.path.join(DATASET_FOLDER, \"train.json\")\n",
    "test_path = os.path.join(DATASET_FOLDER, \"test.json\")\n",
    "personality = yoda_personality if CHARACTER == 'yoda' else sponge_bob_personality"
   ]
  },
  {
   "cell_type": "markdown",
   "metadata": {},
   "source": [
    "#### GPT"
   ]
  },
  {
   "cell_type": "code",
   "execution_count": null,
   "metadata": {},
   "outputs": [],
   "source": [
    "model_args.num_train_epochs = 3\n",
    "\n",
    "gpt_model = ConvAIModel(\n",
    "    \"gpt\",\n",
    "    os.path.join(MODELS_FOLDER, \"gpt_personachat\"),\n",
    "    use_cuda=True,\n",
    "    args=model_args\n",
    ")\n",
    "\n",
    "# Train the model\n",
    "save_path = os.path.join(MODELS_FOLDER, f'trained_models/gpt_{CHARACTER}')\n",
    "gpt_model.train_model(train_path, output_dir=save_path, eval_file=test_path)"
   ]
  },
  {
   "attachments": {},
   "cell_type": "markdown",
   "metadata": {},
   "source": [
    "#### GPT-2"
   ]
  },
  {
   "cell_type": "code",
   "execution_count": null,
   "metadata": {},
   "outputs": [],
   "source": [
    "model_args.num_train_epochs = 4\n",
    "\n",
    "gpt2_model = ConvAIModel(\n",
    "    \"gpt2\",\n",
    "    os.path.join(MODELS_FOLDER, \"gpt2-personachat\"),\n",
    "    use_cuda=True,\n",
    "    args=model_args\n",
    ")\n",
    "\n",
    "# Train the model\n",
    "save_path = os.path.join(MODELS_FOLDER, f'trained_models/gpt2_{CHARACTER}')\n",
    "gpt2_model.train_model(train_path, output_dir=save_path, eval_file=test_path)"
   ]
  },
  {
   "attachments": {},
   "cell_type": "markdown",
   "metadata": {},
   "source": [
    "### Interact with model"
   ]
  },
  {
   "cell_type": "code",
   "execution_count": null,
   "metadata": {},
   "outputs": [],
   "source": [
    "# # Load existing model\n",
    "# save_path = os.path.join(MODELS_FOLDER, f'gpt-persona-{CHARACTER}')\n",
    "# gpt_model = ConvAIModel(\n",
    "#     \"gpt\",\n",
    "#     save_path,\n",
    "#     use_cuda=True,\n",
    "#     args=model_args\n",
    "# )\n",
    "\n",
    "# save_path = os.path.join(MODELS_FOLDER, f'gpt2-persona-{CHARACTER}')\n",
    "# gpt2_model = ConvAIModel(\n",
    "#     \"gpt2\",\n",
    "#     save_path,\n",
    "#     use_cuda=True,\n",
    "#     args=model_args\n",
    "# )"
   ]
  },
  {
   "cell_type": "code",
   "execution_count": null,
   "metadata": {},
   "outputs": [],
   "source": [
    "# gpt2_model.interact(\n",
    "#     personality=personality\n",
    "# )"
   ]
  },
  {
   "attachments": {},
   "cell_type": "markdown",
   "metadata": {},
   "source": [
    "### Evaluate models"
   ]
  },
  {
   "cell_type": "code",
   "execution_count": null,
   "metadata": {},
   "outputs": [],
   "source": [
    "gpt_model.eval_model(test_path)"
   ]
  },
  {
   "cell_type": "code",
   "execution_count": null,
   "metadata": {},
   "outputs": [],
   "source": [
    "gpt2_model.eval_model(test_path)"
   ]
  },
  {
   "cell_type": "code",
   "execution_count": null,
   "metadata": {},
   "outputs": [],
   "source": [
    "import nltk\n",
    "from nltk.tokenize import word_tokenize\n",
    "from nltk.translate.bleu_score import sentence_bleu\n",
    "from nltk.translate.meteor_score import single_meteor_score\n",
    "\n",
    "nltk.download('punkt')\n",
    "nltk.download('wordnet')\n",
    "\n",
    "def evaluate_chatbot(model, evaluation_data):\n",
    "    bleu_scores = []\n",
    "    meteor_scores = []\n",
    "\n",
    "    for personality in evaluation_data:\n",
    "        for utterance in personality['utterances']:\n",
    "            reference_response = utterance['candidates'][-1]\n",
    "            \n",
    "            history = utterance['history'].copy()[-3:]\n",
    "            message = history.pop()\n",
    "\n",
    "            generated_response, history = model.interact_single(message, history, personality['personality'])\n",
    "\n",
    "            # Tokenize the reference and generated responses\n",
    "            reference_tokens = word_tokenize(reference_response)\n",
    "            generated_tokens = word_tokenize(generated_response)\n",
    "\n",
    "            # Calculate BLEU score\n",
    "            bleu_score = sentence_bleu([reference_tokens], generated_tokens, weights=(0.25, 0.25, 0.25, 0.25))\n",
    "            bleu_scores.append(bleu_score)\n",
    "\n",
    "            # Calculate METEOR score\n",
    "            meteor_score = single_meteor_score(reference_tokens, generated_tokens)\n",
    "            meteor_scores.append(meteor_score)\n",
    "\n",
    "    avg_bleu_score = sum(bleu_scores) / len(bleu_scores)\n",
    "    avg_meteor_score = sum(meteor_scores) / len(meteor_scores)\n",
    "\n",
    "    return avg_bleu_score, avg_meteor_score"
   ]
  },
  {
   "attachments": {},
   "cell_type": "markdown",
   "metadata": {},
   "source": [
    "#### Evaluate GPT model"
   ]
  },
  {
   "cell_type": "code",
   "execution_count": null,
   "metadata": {},
   "outputs": [],
   "source": [
    "import json\n",
    "\n",
    "with open(test_path, 'r') as f:\n",
    "    # Load the JSON data from the file\n",
    "    test_data = json.load(f)"
   ]
  },
  {
   "cell_type": "code",
   "execution_count": null,
   "metadata": {},
   "outputs": [],
   "source": [
    "\n",
    "avg_bleu, avg_meteor = evaluate_chatbot(gpt_model, test_data)\n",
    "print(\"Average BLEU score:\", avg_bleu)\n",
    "print(\"Average METEOR score:\", avg_meteor)"
   ]
  },
  {
   "attachments": {},
   "cell_type": "markdown",
   "metadata": {},
   "source": [
    "#### Evaluate GPT-2 model"
   ]
  },
  {
   "cell_type": "code",
   "execution_count": null,
   "metadata": {},
   "outputs": [],
   "source": [
    "\n",
    "avg_bleu, avg_meteor = evaluate_chatbot(gpt2_model, test_data)\n",
    "print(\"Average BLEU score:\", avg_bleu)\n",
    "print(\"Average METEOR score:\", avg_meteor)"
   ]
  },
  {
   "cell_type": "code",
   "execution_count": null,
   "metadata": {},
   "outputs": [],
   "source": []
  }
 ],
 "metadata": {
  "kernelspec": {
   "display_name": "Python 3 (ipykernel)",
   "language": "python",
   "name": "python3"
  },
  "language_info": {
   "codemirror_mode": {
    "name": "ipython",
    "version": 3
   },
   "file_extension": ".py",
   "mimetype": "text/x-python",
   "name": "python",
   "nbconvert_exporter": "python",
   "pygments_lexer": "ipython3",
   "version": "3.8.15"
  },
  "vscode": {
   "interpreter": {
    "hash": "e4ee870ab444af8a8689fba9fdb6a16993f9af4d6f8c51486b98fd7ee4129479"
   }
  }
 },
 "nbformat": 4,
 "nbformat_minor": 2
}
